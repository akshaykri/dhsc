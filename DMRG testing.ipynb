{
 "cells": [
  {
   "cell_type": "code",
   "execution_count": 100,
   "metadata": {},
   "outputs": [
    {
     "name": "stdout",
     "output_type": "stream",
     "text": [
      "N = 20 sites and chi = 10 bond dimension\n",
      "Verified left canonicalized to the -1th site and right canonicalized from the 20th site\n"
     ]
    }
   ],
   "source": [
    "import dmrg\n",
    "reload(dmrg)\n",
    "M1 = dmrg.MPS()\n",
    "print(\"N = {0:d} sites and chi = {1:d} bond dimension\".format(M1.N, M1.chi))\n",
    "M1.check_canonicalization()"
   ]
  },
  {
   "cell_type": "markdown",
   "metadata": {},
   "source": [
    "This has initialized a random MPS"
   ]
  },
  {
   "cell_type": "code",
   "execution_count": 101,
   "metadata": {},
   "outputs": [
    {
     "name": "stdout",
     "output_type": "stream",
     "text": [
      "Verified left canonicalized to the 19th site and right canonicalized from the 20th site\n",
      "Verified left canonicalized to the -1th site and right canonicalized from the 0th site\n"
     ]
    }
   ],
   "source": [
    "M1.left_canonicalize()\n",
    "M1.check_canonicalization()\n",
    "M1.right_canonicalize()\n",
    "M1.check_canonicalization()"
   ]
  },
  {
   "cell_type": "code",
   "execution_count": 102,
   "metadata": {},
   "outputs": [
    {
     "name": "stdout",
     "output_type": "stream",
     "text": [
      "0: (2, 1, 2)\n",
      "1: (2, 2, 4)\n",
      "2: (2, 4, 8)\n",
      "3: (2, 8, 10)\n",
      "4: (2, 10, 10)\n",
      "5: (2, 10, 10)\n",
      "6: (2, 10, 10)\n",
      "7: (2, 10, 10)\n",
      "8: (2, 10, 10)\n",
      "9: (2, 10, 10)\n",
      "10: (2, 10, 10)\n",
      "11: (2, 10, 10)\n",
      "12: (2, 10, 10)\n",
      "13: (2, 10, 10)\n",
      "14: (2, 10, 10)\n",
      "15: (2, 10, 10)\n",
      "16: (2, 10, 8)\n",
      "17: (2, 8, 4)\n",
      "18: (2, 4, 2)\n",
      "19: (2, 2, 1)\n"
     ]
    }
   ],
   "source": [
    "for c1 in np.arange(M1.N):\n",
    "    print(\"{0:d}: {1:s}\".format(c1, M1.M[c1].shape))"
   ]
  },
  {
   "cell_type": "code",
   "execution_count": 103,
   "metadata": {},
   "outputs": [
    {
     "name": "stdout",
     "output_type": "stream",
     "text": [
      "Verified left canonicalized to the 10th site and right canonicalized from the 12th site\n"
     ]
    }
   ],
   "source": [
    "M1.left_canonicalize(10)\n",
    "M1.check_canonicalization()"
   ]
  },
  {
   "cell_type": "code",
   "execution_count": 106,
   "metadata": {},
   "outputs": [
    {
     "data": {
      "text/plain": [
       "1.7303138303269781"
      ]
     },
     "execution_count": 106,
     "metadata": {},
     "output_type": "execute_result"
    }
   ],
   "source": [
    "n = M1.N/2 - 1\n",
    "M1.left_canonicalize(n-1)\n",
    "M1.right_canonicalize(n+1)\n",
    "d, chiL, chiR = M1.M[n].shape # original shape of tensor\n",
    "_, S, _ = np.linalg.svd(M1.M[n].reshape(d*chiL, chiR))\n",
    "-np.sum(np.abs(S)**2 * np.log(np.abs(S)**2))"
   ]
  },
  {
   "cell_type": "code",
   "execution_count": 105,
   "metadata": {},
   "outputs": [
    {
     "data": {
      "text/plain": [
       "1.7303138303269781"
      ]
     },
     "execution_count": 105,
     "metadata": {},
     "output_type": "execute_result"
    }
   ],
   "source": [
    "M1.get_EE()"
   ]
  },
  {
   "cell_type": "code",
   "execution_count": null,
   "metadata": {
    "collapsed": true
   },
   "outputs": [],
   "source": []
  }
 ],
 "metadata": {
  "kernelspec": {
   "display_name": "Python 2",
   "language": "python",
   "name": "python2"
  },
  "language_info": {
   "codemirror_mode": {
    "name": "ipython",
    "version": 2
   },
   "file_extension": ".py",
   "mimetype": "text/x-python",
   "name": "python",
   "nbconvert_exporter": "python",
   "pygments_lexer": "ipython2",
   "version": "2.7.10"
  }
 },
 "nbformat": 4,
 "nbformat_minor": 2
}
