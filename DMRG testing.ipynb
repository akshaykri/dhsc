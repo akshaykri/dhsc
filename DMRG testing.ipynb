{
 "cells": [
  {
   "cell_type": "code",
   "execution_count": 1,
   "metadata": {},
   "outputs": [
    {
     "name": "stdout",
     "output_type": "stream",
     "text": [
      "N = 20 sites and chi = 10 bond dimension\n",
      "Verified left canonicalized to the -1th site and right canonicalized from the 20th site\n"
     ]
    }
   ],
   "source": [
    "import mps\n",
    "reload(mps)\n",
    "M1 = mps.MPS({\"rand_seed\": 1})\n",
    "M1.rand_init()\n",
    "print(\"N = {0:d} sites and chi = {1:d} bond dimension\".format(M1.N, M1.chi))\n",
    "M1.check_canonicalization()"
   ]
  },
  {
   "cell_type": "code",
   "execution_count": 2,
   "metadata": {
    "collapsed": true
   },
   "outputs": [],
   "source": [
    "M2 = mps.MPS({\"rand_seed\": 2})\n",
    "M2.rand_init()"
   ]
  },
  {
   "cell_type": "markdown",
   "metadata": {},
   "source": [
    "This has initialized a random MPS"
   ]
  },
  {
   "cell_type": "code",
   "execution_count": 3,
   "metadata": {},
   "outputs": [
    {
     "name": "stdout",
     "output_type": "stream",
     "text": [
      "Verified left canonicalized to the 19th site and right canonicalized from the 20th site\n",
      "Verified left canonicalized to the -1th site and right canonicalized from the 0th site\n"
     ]
    }
   ],
   "source": [
    "M1.left_canonicalize()\n",
    "M1.check_canonicalization()\n",
    "M2.right_canonicalize()\n",
    "M2.check_canonicalization()"
   ]
  },
  {
   "cell_type": "code",
   "execution_count": null,
   "metadata": {},
   "outputs": [],
   "source": [
    "for c1 in np.arange(M1.N):\n",
    "    print(\"{0:d}: {1:s}\".format(c1, M1.M[c1].shape))"
   ]
  },
  {
   "cell_type": "code",
   "execution_count": 4,
   "metadata": {},
   "outputs": [
    {
     "data": {
      "text/plain": [
       "-0.0014236431609736643"
      ]
     },
     "execution_count": 4,
     "metadata": {},
     "output_type": "execute_result"
    }
   ],
   "source": [
    "M2.inner_product(M1)"
   ]
  },
  {
   "cell_type": "code",
   "execution_count": null,
   "metadata": {},
   "outputs": [],
   "source": [
    "M1.left_canonicalize(13)\n",
    "M1.check_canonicalization()"
   ]
  },
  {
   "cell_type": "code",
   "execution_count": null,
   "metadata": {},
   "outputs": [],
   "source": [
    "n = M1.N/2 - 1\n",
    "M1.left_canonicalize(n-1)\n",
    "M1.right_canonicalize(n+1)\n",
    "d, chiL, chiR = M1.M[n].shape # original shape of tensor\n",
    "_, S, _ = np.linalg.svd(M1.M[n].reshape(d*chiL, chiR))\n",
    "-np.sum(np.abs(S)**2 * np.log(np.abs(S)**2))"
   ]
  },
  {
   "cell_type": "code",
   "execution_count": null,
   "metadata": {},
   "outputs": [],
   "source": [
    "M1.get_EE()"
   ]
  },
  {
   "cell_type": "code",
   "execution_count": 12,
   "metadata": {},
   "outputs": [
    {
     "data": {
      "text/plain": [
       "<module 'mpo' from 'mpo.py'>"
      ]
     },
     "execution_count": 12,
     "metadata": {},
     "output_type": "execute_result"
    }
   ],
   "source": [
    "import mpo\n",
    "reload(mpo)"
   ]
  },
  {
   "cell_type": "code",
   "execution_count": 13,
   "metadata": {},
   "outputs": [],
   "source": [
    "W1 = mpo.MPO()\n"
   ]
  },
  {
   "cell_type": "code",
   "execution_count": 14,
   "metadata": {},
   "outputs": [],
   "source": [
    "W1.make_MPO()"
   ]
  },
  {
   "cell_type": "code",
   "execution_count": 17,
   "metadata": {},
   "outputs": [
    {
     "data": {
      "text/plain": [
       "-0.29353105576408267"
      ]
     },
     "execution_count": 17,
     "metadata": {},
     "output_type": "execute_result"
    }
   ],
   "source": [
    "M1.expectation_val(W1)"
   ]
  },
  {
   "cell_type": "code",
   "execution_count": 18,
   "metadata": {},
   "outputs": [
    {
     "data": {
      "text/plain": [
       "-0.29353105576408284"
      ]
     },
     "execution_count": 18,
     "metadata": {},
     "output_type": "execute_result"
    }
   ],
   "source": [
    "M1.inner_product(W1.act_on_MPS(M1))"
   ]
  },
  {
   "cell_type": "code",
   "execution_count": null,
   "metadata": {
    "collapsed": true
   },
   "outputs": [],
   "source": [
    "\n",
    "\n",
    "W1.W[4].shape\n",
    "for c1 in np.arange(5):\n",
    "    for c2 in np.arange(5):\n",
    "        if not W1.W[4][c1, c2, 0, 1] == W1.W[4][c1, c2, 1, 0]:\n",
    "            print(\"Ha\")"
   ]
  },
  {
   "cell_type": "code",
   "execution_count": null,
   "metadata": {
    "collapsed": true
   },
   "outputs": [],
   "source": []
  }
 ],
 "metadata": {
  "kernelspec": {
   "display_name": "Python 2",
   "language": "python",
   "name": "python2"
  },
  "language_info": {
   "codemirror_mode": {
    "name": "ipython",
    "version": 2
   },
   "file_extension": ".py",
   "mimetype": "text/x-python",
   "name": "python",
   "nbconvert_exporter": "python",
   "pygments_lexer": "ipython2",
   "version": "2.7.10"
  }
 },
 "nbformat": 4,
 "nbformat_minor": 2
}
