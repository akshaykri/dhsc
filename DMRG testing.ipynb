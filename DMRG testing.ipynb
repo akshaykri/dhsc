{
 "cells": [
  {
   "cell_type": "code",
   "execution_count": null,
   "metadata": {},
   "outputs": [],
   "source": [
    "import mps\n",
    "reload(mps)\n",
    "M1 = mps.MPS({\"rand_seed\": 1})\n",
    "M1.rand_init()\n",
    "print(\"N = {0:d} sites and chi = {1:d} bond dimension\".format(M1.N, M1.chi))\n",
    "M1.check_canonicalization()"
   ]
  },
  {
   "cell_type": "code",
   "execution_count": null,
   "metadata": {
    "collapsed": true
   },
   "outputs": [],
   "source": [
    "M2 = mps.MPS({\"rand_seed\": 2})\n",
    "M2.rand_init()"
   ]
  },
  {
   "cell_type": "markdown",
   "metadata": {},
   "source": [
    "This has initialized a random MPS"
   ]
  },
  {
   "cell_type": "code",
   "execution_count": null,
   "metadata": {},
   "outputs": [],
   "source": [
    "M1.left_canonicalize()\n",
    "M1.check_canonicalization()\n",
    "M2.right_canonicalize()\n",
    "M2.check_canonicalization()"
   ]
  },
  {
   "cell_type": "code",
   "execution_count": null,
   "metadata": {},
   "outputs": [],
   "source": [
    "for c1 in np.arange(M1.N):\n",
    "    print(\"{0:d}: {1:s}\".format(c1, M1.M[c1].shape))"
   ]
  },
  {
   "cell_type": "code",
   "execution_count": null,
   "metadata": {},
   "outputs": [],
   "source": [
    "M2.inner_product(M1)"
   ]
  },
  {
   "cell_type": "code",
   "execution_count": null,
   "metadata": {},
   "outputs": [],
   "source": [
    "M1.left_canonicalize(13)\n",
    "M1.check_canonicalization()"
   ]
  },
  {
   "cell_type": "code",
   "execution_count": null,
   "metadata": {},
   "outputs": [],
   "source": [
    "M2.get_EE()"
   ]
  },
  {
   "cell_type": "code",
   "execution_count": null,
   "metadata": {},
   "outputs": [],
   "source": [
    "import mpo\n",
    "reload(mpo)"
   ]
  },
  {
   "cell_type": "code",
   "execution_count": null,
   "metadata": {},
   "outputs": [],
   "source": [
    "W1 = mpo.MPO()\n"
   ]
  },
  {
   "cell_type": "code",
   "execution_count": null,
   "metadata": {},
   "outputs": [],
   "source": [
    "W1.make_MPO()"
   ]
  },
  {
   "cell_type": "code",
   "execution_count": null,
   "metadata": {},
   "outputs": [],
   "source": [
    "M1.expectation_val(W1)"
   ]
  },
  {
   "cell_type": "code",
   "execution_count": null,
   "metadata": {},
   "outputs": [],
   "source": [
    "#Mact = W1.act_on_MPS(M1)\n",
    "GSW.inner_product(W1.act_on_MPS(GSW))"
   ]
  },
  {
   "cell_type": "code",
   "execution_count": null,
   "metadata": {},
   "outputs": [],
   "source": [
    "a, b = W1.get_GS()"
   ]
  },
  {
   "cell_type": "code",
   "execution_count": null,
   "metadata": {},
   "outputs": [],
   "source": [
    "run technique.py"
   ]
  },
  {
   "cell_type": "code",
   "execution_count": null,
   "metadata": {},
   "outputs": [],
   "source": [
    "GSE"
   ]
  },
  {
   "cell_type": "markdown",
   "metadata": {},
   "source": [
    "TEST GROUND STATE DMRG FOR THE HEISENBERG SPIN CHAIN"
   ]
  },
  {
   "cell_type": "code",
   "execution_count": 1,
   "metadata": {},
   "outputs": [
    {
     "name": "stdout",
     "output_type": "stream",
     "text": [
      "L = 16 and chi = 5\n",
      "L = 16 and chi = 10\n",
      "L = 16 and chi = 15\n",
      "L = 16 and chi = 20\n",
      "L = 24 and chi = 5\n",
      "L = 24 and chi = 10\n",
      "L = 24 and chi = 15\n",
      "L = 24 and chi = 20\n",
      "L = 32 and chi = 5\n",
      "L = 32 and chi = 10\n",
      "L = 32 and chi = 15\n",
      "L = 32 and chi = 20\n",
      "L = 48 and chi = 5\n",
      "L = 48 and chi = 10\n",
      "L = 48 and chi = 15\n",
      "L = 48 and chi = 20\n",
      "L = 64 and chi = 5\n",
      "L = 64 and chi = 10\n",
      "L = 64 and chi = 15\n",
      "L = 64 and chi = 20\n"
     ]
    }
   ],
   "source": [
    "import mpo, mps\n",
    "L_arr = np.array([16,24,32,48,64])\n",
    "chi_arr = np.array([5,10,15,20])\n",
    "EEs = np.zeros((len(L_arr), len(chi_arr)))\n",
    "GSEs = []\n",
    "for cL, L in enumerate(L_arr):\n",
    "    GSEs.append([])\n",
    "    W1 = mpo.MPO({'N': L})\n",
    "    W1.make_MPO()\n",
    "    for cc, chi in enumerate(chi_arr):\n",
    "        GSW, GSE = W1.get_GS(params={'chi': chi})\n",
    "        EEs[cL, cc] = GSW.get_EE()\n",
    "        GSEs[cL].append(GSE)\n",
    "        print(\"L = {0:d} and chi = {1:d}\".format(L, chi))"
   ]
  },
  {
   "cell_type": "code",
   "execution_count": 5,
   "metadata": {},
   "outputs": [
    {
     "name": "stdout",
     "output_type": "stream",
     "text": [
      "L = 16, chi = 05, E = -6.897747\n",
      "L = 16, chi = 10, E = -6.911659\n",
      "L = 16, chi = 15, E = -6.911728\n",
      "L = 16, chi = 20, E = -6.911737\n",
      "L = 24, chi = 05, E = -10.425343\n",
      "L = 24, chi = 10, E = -10.453401\n",
      "L = 24, chi = 15, E = -10.453732\n",
      "L = 24, chi = 20, E = -10.453784\n",
      "L = 32, chi = 05, E = -13.955820\n",
      "L = 32, chi = 10, E = -13.996350\n",
      "L = 32, chi = 15, E = -13.997153\n",
      "L = 32, chi = 20, E = -13.997308\n",
      "L = 48, chi = 05, E = -21.024129\n",
      "L = 48, chi = 10, E = -21.083158\n",
      "L = 48, chi = 15, E = -21.085353\n",
      "L = 48, chi = 20, E = -21.085911\n",
      "L = 64, chi = 05, E = -28.096049\n",
      "L = 64, chi = 10, E = -28.170231\n",
      "L = 64, chi = 15, E = -28.174120\n",
      "L = 64, chi = 20, E = -28.175293\n"
     ]
    }
   ],
   "source": [
    "for c1 in np.arange(len(L_arr)):\n",
    "    for c2 in np.arange(len(chi_arr)):\n",
    "        print(\"L = {0:d}, chi = {1:02d}, E = {2:.6f}\".format(L_arr[c1], chi_arr[c2], GSEs[c1][c2][-1]))"
   ]
  },
  {
   "cell_type": "code",
   "execution_count": 15,
   "metadata": {},
   "outputs": [
    {
     "data": {
      "text/plain": [
       "<matplotlib.text.Text at 0x10855bb50>"
      ]
     },
     "execution_count": 15,
     "metadata": {},
     "output_type": "execute_result"
    },
    {
     "data": {
      "image/png": "[encoded data removed]",
      "text/plain": [
       "<matplotlib.figure.Figure at 0x108482090>"
      ]
     },
     "metadata": {},
     "output_type": "display_data"
    }
   ],
   "source": [
    "for c in np.arange(len(L_arr)):\n",
    "    plt.plot(chi_arr, EEs[c,:], '-s', markeredgecolor='k', label='{0:d}'.format(L_arr[c]))\n",
    "#plt.plot(chi_arr, np.log(chi_arr), '--k')\n",
    "plt.xlabel('$\\chi$')\n",
    "plt.ylabel('$\\mathcal{S}$')\n",
    "plt.legend(loc='best', title='L')\n",
    "plt.xlim(4,21)\n",
    "plt.title('Entanglement entropy of the ground state')"
   ]
  },
  {
   "cell_type": "code",
   "execution_count": 23,
   "metadata": {},
   "outputs": [
    {
     "data": {
      "text/plain": [
       "<matplotlib.legend.Legend at 0x107414750>"
      ]
     },
     "execution_count": 23,
     "metadata": {},
     "output_type": "execute_result"
    },
    {
     "data": {
      "image/png": "[encoded data removed]",
      "text/plain": [
       "<matplotlib.figure.Figure at 0x107187a10>"
      ]
     },
     "metadata": {},
     "output_type": "display_data"
    }
   ],
   "source": [
    "for c1 in np.arange(len(L_arr)):\n",
    "    G = []\n",
    "    for c2 in np.arange(len(chi_arr)):\n",
    "        G.append(GSEs[c1][c2][-1])\n",
    "    plt.plot(chi_arr, np.array(G)/L_arr[c1], '-s', markeredgecolor='k', label='{0:d}'.format(L_arr[c1]))\n",
    "Bethe_ansatz = -np.log(2)+0.25\n",
    "plt.plot([-3,22], np.ones(2)*Bethe_ansatz, '--k')\n",
    "plt.text(5, -0.4426, 'Bethe ansatz')\n",
    "plt.xlabel('$\\chi$')\n",
    "plt.ylabel('$E/L$')\n",
    "plt.xlim(0,21)\n",
    "plt.ylim(-0.445, -0.43)\n",
    "plt.legend(loc='best', title='L')"
   ]
  },
  {
   "cell_type": "code",
   "execution_count": 30,
   "metadata": {},
   "outputs": [
    {
     "data": {
      "image/png": "[encoded data removed]",
      "text/plain": [
       "<matplotlib.figure.Figure at 0x108763ad0>"
      ]
     },
     "metadata": {},
     "output_type": "display_data"
    }
   ],
   "source": [
    "p = -28.1754248597421\n",
    "plt.plot(np.array(GSEs[4][0])-p)\n",
    "plt.plot(np.array(GSEs[4][1])-p)\n",
    "plt.plot(np.array(GSEs[4][2])-p)\n",
    "plt.plot(np.array(GSEs[4][3])-p)\n",
    "plt.yscale('log')"
   ]
  },
  {
   "cell_type": "code",
   "execution_count": 35,
   "metadata": {},
   "outputs": [
    {
     "name": "stdout",
     "output_type": "stream",
     "text": [
      "-28.175283597531\n",
      "-28.175292068916\n",
      "-28.175292928781\n"
     ]
    }
   ],
   "source": [
    "print(\"{0:.12f}\\n{1:.12f}\\n{2:.12f}\".format(GSEs[4][3][259],GSEs[4][3][659],GSEs[4][3][1259]))"
   ]
  },
  {
   "cell_type": "code",
   "execution_count": null,
   "metadata": {
    "collapsed": true
   },
   "outputs": [],
   "source": []
  }
 ],
 "metadata": {
  "kernelspec": {
   "display_name": "Python 2",
   "language": "python",
   "name": "python2"
  },
  "language_info": {
   "codemirror_mode": {
    "name": "ipython",
    "version": 2
   },
   "file_extension": ".py",
   "mimetype": "text/x-python",
   "name": "python",
   "nbconvert_exporter": "python",
   "pygments_lexer": "ipython2",
   "version": "2.7.10"
  }
 },
 "nbformat": 4,
 "nbformat_minor": 2
}
