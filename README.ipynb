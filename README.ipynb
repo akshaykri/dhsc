{
 "cells": [
  {
   "cell_type": "markdown",
   "metadata": {},
   "source": [
    "# dhsc: (Disordered) Heisenberg Spin chains\n",
    "\n",
    "This repo was made for a course project in Numerical Algorithms for Scientific Computing (APC 523) at Princeton University during Spring 2018.\n",
    "\n",
    "In this repo, I implement a matrix-product state algorithm to calculate approximate energy eigenvalues of a quantum system.\n",
    "In particular, this technique is used to find the low energy states of a Heisenberg Spin Chain, a system of N particles, each with 2 degrees of freedom, coupled together by nearest-neighbor interactions.\n",
    "Nominally, this is equivalent to solving the eigen decomposition problem for a matrix of size $2^N \\times 2^N$, which is quickly intractable on classical supercomputers for $N \\geq 20$.\n",
    "However, by exploiting the sparsity and locality of the system, one can use a *tensor-network* based method to compress this system using a number of parameters that scales *polynomially*, not *exponentially* with $N$.\n",
    "\n",
    "The upshot: One can solve systems with $N = 64$, to very high accuracy (over 99.99999% accuracy compared to the exact Bethe ansatz result), in a matter of seconds on a laptop. Nominally, this state is a vector of dimension $2^{64} \\approx 1.8 \\times 10^{19}$.\n",
    "\n",
    "\n",
    "Read the report (Report.pdf) for more details, or see the other Jupyter notebook (demo.ipynb) for a demo.\n",
    "\n",
    "\n",
    "\n",
    "Thanks to Michael Muller, who taught the course.\n",
    "\n",
    "edits (June 2020): \n",
    " - changed repo visibility from private to public\n",
    " - added documentation\n",
    " - cleaned up some old files\n"
   ]
  },
  {
   "cell_type": "code",
   "execution_count": null,
   "metadata": {},
   "outputs": [],
   "source": []
  }
 ],
 "metadata": {
  "kernelspec": {
   "display_name": "Python 3",
   "language": "python",
   "name": "python3"
  },
  "language_info": {
   "codemirror_mode": {
    "name": "ipython",
    "version": 3
   },
   "file_extension": ".py",
   "mimetype": "text/x-python",
   "name": "python",
   "nbconvert_exporter": "python",
   "pygments_lexer": "ipython3",
   "version": "3.6.8"
  }
 },
 "nbformat": 4,
 "nbformat_minor": 2
}
